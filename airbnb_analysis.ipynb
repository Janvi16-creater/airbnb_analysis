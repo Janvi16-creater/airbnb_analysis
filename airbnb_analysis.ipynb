{
 "cells": [
  {
   "cell_type": "code",
   "execution_count": 4,
   "id": "2af577a1-1bff-4bb1-9431-995400c5727b",
   "metadata": {},
   "outputs": [],
   "source": [
    "import pandas as pd\n",
    "import numpy as np\n",
    "import seaborn as sns\n",
    "import matplotlib.pyplot as plt"
   ]
  },
  {
   "cell_type": "code",
   "execution_count": 6,
   "id": "54d2d41c-4ab7-4b22-bc91-2d20471db50d",
   "metadata": {},
   "outputs": [
    {
     "name": "stderr",
     "output_type": "stream",
     "text": [
      "C:\\Users\\janvi\\AppData\\Local\\Temp\\ipykernel_23084\\1172785274.py:1: DtypeWarning: Columns (25) have mixed types. Specify dtype option on import or set low_memory=False.\n",
      "  df = pd.read_csv('Airbnb.csv')\n"
     ]
    },
    {
     "data": {
      "text/html": [
       "<div>\n",
       "<style scoped>\n",
       "    .dataframe tbody tr th:only-of-type {\n",
       "        vertical-align: middle;\n",
       "    }\n",
       "\n",
       "    .dataframe tbody tr th {\n",
       "        vertical-align: top;\n",
       "    }\n",
       "\n",
       "    .dataframe thead th {\n",
       "        text-align: right;\n",
       "    }\n",
       "</style>\n",
       "<table border=\"1\" class=\"dataframe\">\n",
       "  <thead>\n",
       "    <tr style=\"text-align: right;\">\n",
       "      <th></th>\n",
       "      <th>id</th>\n",
       "      <th>NAME</th>\n",
       "      <th>host id</th>\n",
       "      <th>host_identity_verified</th>\n",
       "      <th>host name</th>\n",
       "      <th>neighbourhood group</th>\n",
       "      <th>neighbourhood</th>\n",
       "      <th>lat</th>\n",
       "      <th>long</th>\n",
       "      <th>country</th>\n",
       "      <th>...</th>\n",
       "      <th>service fee</th>\n",
       "      <th>minimum nights</th>\n",
       "      <th>number of reviews</th>\n",
       "      <th>last review</th>\n",
       "      <th>reviews per month</th>\n",
       "      <th>review rate number</th>\n",
       "      <th>calculated host listings count</th>\n",
       "      <th>availability 365</th>\n",
       "      <th>house_rules</th>\n",
       "      <th>license</th>\n",
       "    </tr>\n",
       "  </thead>\n",
       "  <tbody>\n",
       "    <tr>\n",
       "      <th>0</th>\n",
       "      <td>1001254</td>\n",
       "      <td>Clean &amp; quiet apt home by the park</td>\n",
       "      <td>80014485718</td>\n",
       "      <td>unconfirmed</td>\n",
       "      <td>Madaline</td>\n",
       "      <td>Brooklyn</td>\n",
       "      <td>Kensington</td>\n",
       "      <td>40.64749</td>\n",
       "      <td>-73.97237</td>\n",
       "      <td>United States</td>\n",
       "      <td>...</td>\n",
       "      <td>$193</td>\n",
       "      <td>10.0</td>\n",
       "      <td>9.0</td>\n",
       "      <td>10/19/2021</td>\n",
       "      <td>0.21</td>\n",
       "      <td>4.0</td>\n",
       "      <td>6.0</td>\n",
       "      <td>286.0</td>\n",
       "      <td>Clean up and treat the home the way you'd like...</td>\n",
       "      <td>NaN</td>\n",
       "    </tr>\n",
       "    <tr>\n",
       "      <th>1</th>\n",
       "      <td>1002102</td>\n",
       "      <td>Skylit Midtown Castle</td>\n",
       "      <td>52335172823</td>\n",
       "      <td>verified</td>\n",
       "      <td>Jenna</td>\n",
       "      <td>Manhattan</td>\n",
       "      <td>Midtown</td>\n",
       "      <td>40.75362</td>\n",
       "      <td>-73.98377</td>\n",
       "      <td>United States</td>\n",
       "      <td>...</td>\n",
       "      <td>$28</td>\n",
       "      <td>30.0</td>\n",
       "      <td>45.0</td>\n",
       "      <td>5/21/2022</td>\n",
       "      <td>0.38</td>\n",
       "      <td>4.0</td>\n",
       "      <td>2.0</td>\n",
       "      <td>228.0</td>\n",
       "      <td>Pet friendly but please confirm with me if the...</td>\n",
       "      <td>NaN</td>\n",
       "    </tr>\n",
       "    <tr>\n",
       "      <th>2</th>\n",
       "      <td>1002403</td>\n",
       "      <td>THE VILLAGE OF HARLEM....NEW YORK !</td>\n",
       "      <td>78829239556</td>\n",
       "      <td>NaN</td>\n",
       "      <td>Elise</td>\n",
       "      <td>Manhattan</td>\n",
       "      <td>Harlem</td>\n",
       "      <td>40.80902</td>\n",
       "      <td>-73.94190</td>\n",
       "      <td>United States</td>\n",
       "      <td>...</td>\n",
       "      <td>$124</td>\n",
       "      <td>3.0</td>\n",
       "      <td>0.0</td>\n",
       "      <td>NaN</td>\n",
       "      <td>NaN</td>\n",
       "      <td>5.0</td>\n",
       "      <td>1.0</td>\n",
       "      <td>352.0</td>\n",
       "      <td>I encourage you to use my kitchen, cooking and...</td>\n",
       "      <td>NaN</td>\n",
       "    </tr>\n",
       "  </tbody>\n",
       "</table>\n",
       "<p>3 rows × 26 columns</p>\n",
       "</div>"
      ],
      "text/plain": [
       "        id                                 NAME      host id  \\\n",
       "0  1001254   Clean & quiet apt home by the park  80014485718   \n",
       "1  1002102                Skylit Midtown Castle  52335172823   \n",
       "2  1002403  THE VILLAGE OF HARLEM....NEW YORK !  78829239556   \n",
       "\n",
       "  host_identity_verified host name neighbourhood group neighbourhood  \\\n",
       "0            unconfirmed  Madaline            Brooklyn    Kensington   \n",
       "1               verified     Jenna           Manhattan       Midtown   \n",
       "2                    NaN     Elise           Manhattan        Harlem   \n",
       "\n",
       "        lat      long        country  ... service fee minimum nights  \\\n",
       "0  40.64749 -73.97237  United States  ...       $193            10.0   \n",
       "1  40.75362 -73.98377  United States  ...        $28            30.0   \n",
       "2  40.80902 -73.94190  United States  ...       $124             3.0   \n",
       "\n",
       "  number of reviews last review  reviews per month review rate number  \\\n",
       "0               9.0  10/19/2021               0.21                4.0   \n",
       "1              45.0   5/21/2022               0.38                4.0   \n",
       "2               0.0         NaN                NaN                5.0   \n",
       "\n",
       "  calculated host listings count  availability 365  \\\n",
       "0                            6.0             286.0   \n",
       "1                            2.0             228.0   \n",
       "2                            1.0             352.0   \n",
       "\n",
       "                                         house_rules license  \n",
       "0  Clean up and treat the home the way you'd like...     NaN  \n",
       "1  Pet friendly but please confirm with me if the...     NaN  \n",
       "2  I encourage you to use my kitchen, cooking and...     NaN  \n",
       "\n",
       "[3 rows x 26 columns]"
      ]
     },
     "execution_count": 6,
     "metadata": {},
     "output_type": "execute_result"
    }
   ],
   "source": [
    "df = pd.read_csv('Airbnb.csv')\n",
    "df.head(3)"
   ]
  },
  {
   "cell_type": "code",
   "execution_count": 7,
   "id": "a054fe31-5cdc-4cc3-ae44-560542f9cf92",
   "metadata": {},
   "outputs": [
    {
     "data": {
      "text/plain": [
       "Index(['id', 'NAME', 'host id', 'host_identity_verified', 'host name',\n",
       "       'neighbourhood group', 'neighbourhood', 'lat', 'long', 'country',\n",
       "       'country code', 'instant_bookable', 'cancellation_policy', 'room type',\n",
       "       'Construction year', 'price', 'service fee', 'minimum nights',\n",
       "       'number of reviews', 'last review', 'reviews per month',\n",
       "       'review rate number', 'calculated host listings count',\n",
       "       'availability 365', 'house_rules', 'license'],\n",
       "      dtype='object')"
      ]
     },
     "execution_count": 7,
     "metadata": {},
     "output_type": "execute_result"
    }
   ],
   "source": [
    "df.columns"
   ]
  },
  {
   "cell_type": "code",
   "execution_count": 8,
   "id": "2a92a7fb-f15b-479e-babb-915c88e276f9",
   "metadata": {},
   "outputs": [
    {
     "data": {
      "text/plain": [
       "id                                     0\n",
       "NAME                                 250\n",
       "host id                                0\n",
       "host_identity_verified               289\n",
       "host name                            406\n",
       "neighbourhood group                   29\n",
       "neighbourhood                         16\n",
       "lat                                    8\n",
       "long                                   8\n",
       "country                              532\n",
       "country code                         131\n",
       "instant_bookable                     105\n",
       "cancellation_policy                   76\n",
       "room type                              0\n",
       "Construction year                    214\n",
       "price                                247\n",
       "service fee                          273\n",
       "minimum nights                       409\n",
       "number of reviews                    183\n",
       "last review                        15893\n",
       "reviews per month                  15879\n",
       "review rate number                   326\n",
       "calculated host listings count       319\n",
       "availability 365                     448\n",
       "house_rules                        52131\n",
       "license                           102597\n",
       "dtype: int64"
      ]
     },
     "execution_count": 8,
     "metadata": {},
     "output_type": "execute_result"
    }
   ],
   "source": [
    "df.isnull().sum()"
   ]
  },
  {
   "cell_type": "code",
   "execution_count": 9,
   "id": "6a6471a7-b0a7-46e6-abad-fbd465e517e1",
   "metadata": {},
   "outputs": [],
   "source": [
    "# house_rules and license has highly missing values and we don't use to analyse in our project so we can drop that columns."
   ]
  },
  {
   "cell_type": "code",
   "execution_count": 10,
   "id": "f0180415-f94f-4523-b4d6-2c76ce836017",
   "metadata": {},
   "outputs": [
    {
     "name": "stdout",
     "output_type": "stream",
     "text": [
      "<class 'pandas.core.frame.DataFrame'>\n",
      "RangeIndex: 102599 entries, 0 to 102598\n",
      "Data columns (total 26 columns):\n",
      " #   Column                          Non-Null Count   Dtype  \n",
      "---  ------                          --------------   -----  \n",
      " 0   id                              102599 non-null  int64  \n",
      " 1   NAME                            102349 non-null  object \n",
      " 2   host id                         102599 non-null  int64  \n",
      " 3   host_identity_verified          102310 non-null  object \n",
      " 4   host name                       102193 non-null  object \n",
      " 5   neighbourhood group             102570 non-null  object \n",
      " 6   neighbourhood                   102583 non-null  object \n",
      " 7   lat                             102591 non-null  float64\n",
      " 8   long                            102591 non-null  float64\n",
      " 9   country                         102067 non-null  object \n",
      " 10  country code                    102468 non-null  object \n",
      " 11  instant_bookable                102494 non-null  object \n",
      " 12  cancellation_policy             102523 non-null  object \n",
      " 13  room type                       102599 non-null  object \n",
      " 14  Construction year               102385 non-null  float64\n",
      " 15  price                           102352 non-null  object \n",
      " 16  service fee                     102326 non-null  object \n",
      " 17  minimum nights                  102190 non-null  float64\n",
      " 18  number of reviews               102416 non-null  float64\n",
      " 19  last review                     86706 non-null   object \n",
      " 20  reviews per month               86720 non-null   float64\n",
      " 21  review rate number              102273 non-null  float64\n",
      " 22  calculated host listings count  102280 non-null  float64\n",
      " 23  availability 365                102151 non-null  float64\n",
      " 24  house_rules                     50468 non-null   object \n",
      " 25  license                         2 non-null       object \n",
      "dtypes: float64(9), int64(2), object(15)\n",
      "memory usage: 20.4+ MB\n"
     ]
    }
   ],
   "source": [
    "df.info()"
   ]
  },
  {
   "cell_type": "code",
   "execution_count": 11,
   "id": "c55c331a-659c-44e4-8584-6caf380c8aff",
   "metadata": {},
   "outputs": [],
   "source": [
    "# last review type change into date-time format\n",
    "df[\"last review\"] = pd.to_datetime(df[\"last review\"], errors='coerce')"
   ]
  },
  {
   "cell_type": "code",
   "execution_count": 12,
   "id": "4f899a8f-7d59-4ba3-92af-643dc6bdcebb",
   "metadata": {},
   "outputs": [
    {
     "data": {
      "text/plain": [
       "id                                         int64\n",
       "NAME                                      object\n",
       "host id                                    int64\n",
       "host_identity_verified                    object\n",
       "host name                                 object\n",
       "neighbourhood group                       object\n",
       "neighbourhood                             object\n",
       "lat                                      float64\n",
       "long                                     float64\n",
       "country                                   object\n",
       "country code                              object\n",
       "instant_bookable                          object\n",
       "cancellation_policy                       object\n",
       "room type                                 object\n",
       "Construction year                        float64\n",
       "price                                     object\n",
       "service fee                               object\n",
       "minimum nights                           float64\n",
       "number of reviews                        float64\n",
       "last review                       datetime64[ns]\n",
       "reviews per month                        float64\n",
       "review rate number                       float64\n",
       "calculated host listings count           float64\n",
       "availability 365                         float64\n",
       "house_rules                               object\n",
       "license                                   object\n",
       "dtype: object"
      ]
     },
     "execution_count": 12,
     "metadata": {},
     "output_type": "execute_result"
    }
   ],
   "source": [
    "df.dtypes"
   ]
  },
  {
   "cell_type": "code",
   "execution_count": 13,
   "id": "cb721d1c-a01e-4b5a-a573-feaf69f83bb8",
   "metadata": {},
   "outputs": [],
   "source": [
    "# fill missing values in \"last review\" and \"reviews per month\"\n",
    "\n",
    "df.fillna({\"reviews per month\":0, \"last review\":df[\"last review\"].min()}, inplace=True)"
   ]
  },
  {
   "cell_type": "code",
   "execution_count": 14,
   "id": "40f01bc4-91e6-45a8-93a2-9b973ecd9290",
   "metadata": {},
   "outputs": [],
   "source": [
    "df.dropna(subset= [\"NAME\", \"host name\"], inplace=True)"
   ]
  },
  {
   "cell_type": "code",
   "execution_count": 15,
   "id": "2791f753-ed5c-4c07-bb5a-39b43eff4763",
   "metadata": {},
   "outputs": [
    {
     "data": {
      "text/plain": [
       "id                                     0\n",
       "NAME                                   0\n",
       "host id                                0\n",
       "host_identity_verified               276\n",
       "host name                              0\n",
       "neighbourhood group                   26\n",
       "neighbourhood                         16\n",
       "lat                                    8\n",
       "long                                   8\n",
       "country                              526\n",
       "country code                         122\n",
       "instant_bookable                      96\n",
       "cancellation_policy                   70\n",
       "room type                              0\n",
       "Construction year                    200\n",
       "price                                239\n",
       "service fee                          268\n",
       "minimum nights                       403\n",
       "number of reviews                    182\n",
       "last review                            0\n",
       "reviews per month                      0\n",
       "review rate number                   314\n",
       "calculated host listings count       318\n",
       "availability 365                     420\n",
       "house_rules                        51867\n",
       "license                           101947\n",
       "dtype: int64"
      ]
     },
     "execution_count": 15,
     "metadata": {},
     "output_type": "execute_result"
    }
   ],
   "source": [
    "df.isnull().sum()"
   ]
  },
  {
   "cell_type": "code",
   "execution_count": 16,
   "id": "5d4bd708-dfe8-4d0a-9d42-384501bc43b0",
   "metadata": {},
   "outputs": [],
   "source": [
    "df = df.drop(columns=[\"license\",\"house_rules\"], errors=\"ignore\")"
   ]
  },
  {
   "cell_type": "code",
   "execution_count": null,
   "id": "584ddb2b-2bab-4e19-91ff-7b36d0e3e951",
   "metadata": {},
   "outputs": [],
   "source": []
  },
  {
   "cell_type": "code",
   "execution_count": 17,
   "id": "fa30b596-ea7e-486e-a9b6-fbc285936c70",
   "metadata": {},
   "outputs": [],
   "source": [
    "# remove $ sign ffrom the column \"price\" and \"service fee\"\n",
    "# change dtaype from object to float\n"
   ]
  },
  {
   "cell_type": "code",
   "execution_count": 18,
   "id": "2346b411-b315-4d97-874a-b03facb928e9",
   "metadata": {},
   "outputs": [
    {
     "name": "stderr",
     "output_type": "stream",
     "text": [
      "<>:1: SyntaxWarning: invalid escape sequence '\\$'\n",
      "<>:2: SyntaxWarning: invalid escape sequence '\\$'\n",
      "<>:1: SyntaxWarning: invalid escape sequence '\\$'\n",
      "<>:2: SyntaxWarning: invalid escape sequence '\\$'\n",
      "C:\\Users\\janvi\\AppData\\Local\\Temp\\ipykernel_23084\\606423320.py:1: SyntaxWarning: invalid escape sequence '\\$'\n",
      "  df[\"price\"] = df[\"price\"].replace(\"[\\$,]\", \"\", regex=True).astype(float)\n",
      "C:\\Users\\janvi\\AppData\\Local\\Temp\\ipykernel_23084\\606423320.py:2: SyntaxWarning: invalid escape sequence '\\$'\n",
      "  df[\"service fee\"] = df[\"service fee\"].replace(\"[\\$,]\", \"\", regex=True).astype(float)\n"
     ]
    }
   ],
   "source": [
    "df[\"price\"] = df[\"price\"].replace(\"[\\$,]\", \"\", regex=True).astype(float)\n",
    "df[\"service fee\"] = df[\"service fee\"].replace(\"[\\$,]\", \"\", regex=True).astype(float)"
   ]
  },
  {
   "cell_type": "code",
   "execution_count": 19,
   "id": "07bbc826-b699-4714-beb2-d1f0ce73d711",
   "metadata": {},
   "outputs": [
    {
     "data": {
      "text/html": [
       "<div>\n",
       "<style scoped>\n",
       "    .dataframe tbody tr th:only-of-type {\n",
       "        vertical-align: middle;\n",
       "    }\n",
       "\n",
       "    .dataframe tbody tr th {\n",
       "        vertical-align: top;\n",
       "    }\n",
       "\n",
       "    .dataframe thead th {\n",
       "        text-align: right;\n",
       "    }\n",
       "</style>\n",
       "<table border=\"1\" class=\"dataframe\">\n",
       "  <thead>\n",
       "    <tr style=\"text-align: right;\">\n",
       "      <th></th>\n",
       "      <th>id</th>\n",
       "      <th>NAME</th>\n",
       "      <th>host id</th>\n",
       "      <th>host_identity_verified</th>\n",
       "      <th>host name</th>\n",
       "      <th>neighbourhood group</th>\n",
       "      <th>neighbourhood</th>\n",
       "      <th>lat</th>\n",
       "      <th>long</th>\n",
       "      <th>country</th>\n",
       "      <th>...</th>\n",
       "      <th>Construction year</th>\n",
       "      <th>price</th>\n",
       "      <th>service fee</th>\n",
       "      <th>minimum nights</th>\n",
       "      <th>number of reviews</th>\n",
       "      <th>last review</th>\n",
       "      <th>reviews per month</th>\n",
       "      <th>review rate number</th>\n",
       "      <th>calculated host listings count</th>\n",
       "      <th>availability 365</th>\n",
       "    </tr>\n",
       "  </thead>\n",
       "  <tbody>\n",
       "    <tr>\n",
       "      <th>0</th>\n",
       "      <td>1001254</td>\n",
       "      <td>Clean &amp; quiet apt home by the park</td>\n",
       "      <td>80014485718</td>\n",
       "      <td>unconfirmed</td>\n",
       "      <td>Madaline</td>\n",
       "      <td>Brooklyn</td>\n",
       "      <td>Kensington</td>\n",
       "      <td>40.64749</td>\n",
       "      <td>-73.97237</td>\n",
       "      <td>United States</td>\n",
       "      <td>...</td>\n",
       "      <td>2020.0</td>\n",
       "      <td>966.0</td>\n",
       "      <td>193.0</td>\n",
       "      <td>10.0</td>\n",
       "      <td>9.0</td>\n",
       "      <td>2021-10-19</td>\n",
       "      <td>0.21</td>\n",
       "      <td>4.0</td>\n",
       "      <td>6.0</td>\n",
       "      <td>286.0</td>\n",
       "    </tr>\n",
       "    <tr>\n",
       "      <th>1</th>\n",
       "      <td>1002102</td>\n",
       "      <td>Skylit Midtown Castle</td>\n",
       "      <td>52335172823</td>\n",
       "      <td>verified</td>\n",
       "      <td>Jenna</td>\n",
       "      <td>Manhattan</td>\n",
       "      <td>Midtown</td>\n",
       "      <td>40.75362</td>\n",
       "      <td>-73.98377</td>\n",
       "      <td>United States</td>\n",
       "      <td>...</td>\n",
       "      <td>2007.0</td>\n",
       "      <td>142.0</td>\n",
       "      <td>28.0</td>\n",
       "      <td>30.0</td>\n",
       "      <td>45.0</td>\n",
       "      <td>2022-05-21</td>\n",
       "      <td>0.38</td>\n",
       "      <td>4.0</td>\n",
       "      <td>2.0</td>\n",
       "      <td>228.0</td>\n",
       "    </tr>\n",
       "    <tr>\n",
       "      <th>2</th>\n",
       "      <td>1002403</td>\n",
       "      <td>THE VILLAGE OF HARLEM....NEW YORK !</td>\n",
       "      <td>78829239556</td>\n",
       "      <td>NaN</td>\n",
       "      <td>Elise</td>\n",
       "      <td>Manhattan</td>\n",
       "      <td>Harlem</td>\n",
       "      <td>40.80902</td>\n",
       "      <td>-73.94190</td>\n",
       "      <td>United States</td>\n",
       "      <td>...</td>\n",
       "      <td>2005.0</td>\n",
       "      <td>620.0</td>\n",
       "      <td>124.0</td>\n",
       "      <td>3.0</td>\n",
       "      <td>0.0</td>\n",
       "      <td>2012-07-11</td>\n",
       "      <td>0.00</td>\n",
       "      <td>5.0</td>\n",
       "      <td>1.0</td>\n",
       "      <td>352.0</td>\n",
       "    </tr>\n",
       "  </tbody>\n",
       "</table>\n",
       "<p>3 rows × 24 columns</p>\n",
       "</div>"
      ],
      "text/plain": [
       "        id                                 NAME      host id  \\\n",
       "0  1001254   Clean & quiet apt home by the park  80014485718   \n",
       "1  1002102                Skylit Midtown Castle  52335172823   \n",
       "2  1002403  THE VILLAGE OF HARLEM....NEW YORK !  78829239556   \n",
       "\n",
       "  host_identity_verified host name neighbourhood group neighbourhood  \\\n",
       "0            unconfirmed  Madaline            Brooklyn    Kensington   \n",
       "1               verified     Jenna           Manhattan       Midtown   \n",
       "2                    NaN     Elise           Manhattan        Harlem   \n",
       "\n",
       "        lat      long        country  ... Construction year  price  \\\n",
       "0  40.64749 -73.97237  United States  ...            2020.0  966.0   \n",
       "1  40.75362 -73.98377  United States  ...            2007.0  142.0   \n",
       "2  40.80902 -73.94190  United States  ...            2005.0  620.0   \n",
       "\n",
       "  service fee minimum nights  number of reviews  last review  \\\n",
       "0       193.0           10.0                9.0   2021-10-19   \n",
       "1        28.0           30.0               45.0   2022-05-21   \n",
       "2       124.0            3.0                0.0   2012-07-11   \n",
       "\n",
       "   reviews per month  review rate number  calculated host listings count  \\\n",
       "0               0.21                 4.0                             6.0   \n",
       "1               0.38                 4.0                             2.0   \n",
       "2               0.00                 5.0                             1.0   \n",
       "\n",
       "  availability 365  \n",
       "0            286.0  \n",
       "1            228.0  \n",
       "2            352.0  \n",
       "\n",
       "[3 rows x 24 columns]"
      ]
     },
     "execution_count": 19,
     "metadata": {},
     "output_type": "execute_result"
    }
   ],
   "source": [
    "df.head(3)"
   ]
  },
  {
   "cell_type": "code",
   "execution_count": 20,
   "id": "9010234a-adb8-4248-b968-77e336cf222b",
   "metadata": {},
   "outputs": [],
   "source": [
    "# find duplicates and remove\n",
    "\n",
    "df.drop_duplicates(inplace=True)"
   ]
  },
  {
   "cell_type": "code",
   "execution_count": 21,
   "id": "20511025-227c-4dd9-bb6f-2212d32bf677",
   "metadata": {},
   "outputs": [
    {
     "data": {
      "text/html": [
       "<div>\n",
       "<style scoped>\n",
       "    .dataframe tbody tr th:only-of-type {\n",
       "        vertical-align: middle;\n",
       "    }\n",
       "\n",
       "    .dataframe tbody tr th {\n",
       "        vertical-align: top;\n",
       "    }\n",
       "\n",
       "    .dataframe thead th {\n",
       "        text-align: right;\n",
       "    }\n",
       "</style>\n",
       "<table border=\"1\" class=\"dataframe\">\n",
       "  <thead>\n",
       "    <tr style=\"text-align: right;\">\n",
       "      <th></th>\n",
       "      <th>id</th>\n",
       "      <th>host id</th>\n",
       "      <th>lat</th>\n",
       "      <th>long</th>\n",
       "      <th>Construction year</th>\n",
       "      <th>price</th>\n",
       "      <th>service fee</th>\n",
       "      <th>minimum nights</th>\n",
       "      <th>number of reviews</th>\n",
       "      <th>last review</th>\n",
       "      <th>reviews per month</th>\n",
       "      <th>review rate number</th>\n",
       "      <th>calculated host listings count</th>\n",
       "      <th>availability 365</th>\n",
       "    </tr>\n",
       "  </thead>\n",
       "  <tbody>\n",
       "    <tr>\n",
       "      <th>count</th>\n",
       "      <td>1.014100e+05</td>\n",
       "      <td>1.014100e+05</td>\n",
       "      <td>101402.000000</td>\n",
       "      <td>101402.000000</td>\n",
       "      <td>101210.000000</td>\n",
       "      <td>101171.000000</td>\n",
       "      <td>101142.000000</td>\n",
       "      <td>101016.000000</td>\n",
       "      <td>101228.000000</td>\n",
       "      <td>101410</td>\n",
       "      <td>101410.000000</td>\n",
       "      <td>101103.000000</td>\n",
       "      <td>101092.000000</td>\n",
       "      <td>100990.000000</td>\n",
       "    </tr>\n",
       "    <tr>\n",
       "      <th>mean</th>\n",
       "      <td>2.920959e+07</td>\n",
       "      <td>4.926155e+10</td>\n",
       "      <td>40.728082</td>\n",
       "      <td>-73.949663</td>\n",
       "      <td>2012.486908</td>\n",
       "      <td>625.381008</td>\n",
       "      <td>125.043998</td>\n",
       "      <td>8.113744</td>\n",
       "      <td>27.511854</td>\n",
       "      <td>2018-05-15 21:26:08.721033728</td>\n",
       "      <td>1.163207</td>\n",
       "      <td>3.278558</td>\n",
       "      <td>7.948463</td>\n",
       "      <td>141.164660</td>\n",
       "    </tr>\n",
       "    <tr>\n",
       "      <th>min</th>\n",
       "      <td>1.001254e+06</td>\n",
       "      <td>1.236005e+08</td>\n",
       "      <td>40.499790</td>\n",
       "      <td>-74.249840</td>\n",
       "      <td>2003.000000</td>\n",
       "      <td>50.000000</td>\n",
       "      <td>10.000000</td>\n",
       "      <td>-1223.000000</td>\n",
       "      <td>0.000000</td>\n",
       "      <td>2012-07-11 00:00:00</td>\n",
       "      <td>0.000000</td>\n",
       "      <td>1.000000</td>\n",
       "      <td>1.000000</td>\n",
       "      <td>-10.000000</td>\n",
       "    </tr>\n",
       "    <tr>\n",
       "      <th>25%</th>\n",
       "      <td>1.507574e+07</td>\n",
       "      <td>2.459183e+10</td>\n",
       "      <td>40.688730</td>\n",
       "      <td>-73.982570</td>\n",
       "      <td>2007.000000</td>\n",
       "      <td>340.000000</td>\n",
       "      <td>68.000000</td>\n",
       "      <td>2.000000</td>\n",
       "      <td>1.000000</td>\n",
       "      <td>2017-07-30 00:00:00</td>\n",
       "      <td>0.090000</td>\n",
       "      <td>2.000000</td>\n",
       "      <td>1.000000</td>\n",
       "      <td>3.000000</td>\n",
       "    </tr>\n",
       "    <tr>\n",
       "      <th>50%</th>\n",
       "      <td>2.922911e+07</td>\n",
       "      <td>4.912069e+10</td>\n",
       "      <td>40.722300</td>\n",
       "      <td>-73.954440</td>\n",
       "      <td>2012.000000</td>\n",
       "      <td>625.000000</td>\n",
       "      <td>125.000000</td>\n",
       "      <td>3.000000</td>\n",
       "      <td>7.000000</td>\n",
       "      <td>2019-05-23 00:00:00</td>\n",
       "      <td>0.480000</td>\n",
       "      <td>3.000000</td>\n",
       "      <td>1.000000</td>\n",
       "      <td>96.000000</td>\n",
       "    </tr>\n",
       "    <tr>\n",
       "      <th>75%</th>\n",
       "      <td>4.328308e+07</td>\n",
       "      <td>7.399747e+10</td>\n",
       "      <td>40.762750</td>\n",
       "      <td>-73.932340</td>\n",
       "      <td>2017.000000</td>\n",
       "      <td>913.000000</td>\n",
       "      <td>183.000000</td>\n",
       "      <td>5.000000</td>\n",
       "      <td>31.000000</td>\n",
       "      <td>2019-07-01 00:00:00</td>\n",
       "      <td>1.710000</td>\n",
       "      <td>4.000000</td>\n",
       "      <td>2.000000</td>\n",
       "      <td>269.000000</td>\n",
       "    </tr>\n",
       "    <tr>\n",
       "      <th>max</th>\n",
       "      <td>5.736742e+07</td>\n",
       "      <td>9.876313e+10</td>\n",
       "      <td>40.916970</td>\n",
       "      <td>-73.705220</td>\n",
       "      <td>2022.000000</td>\n",
       "      <td>1200.000000</td>\n",
       "      <td>240.000000</td>\n",
       "      <td>5645.000000</td>\n",
       "      <td>1024.000000</td>\n",
       "      <td>2058-06-16 00:00:00</td>\n",
       "      <td>90.000000</td>\n",
       "      <td>5.000000</td>\n",
       "      <td>332.000000</td>\n",
       "      <td>3677.000000</td>\n",
       "    </tr>\n",
       "    <tr>\n",
       "      <th>std</th>\n",
       "      <td>1.626820e+07</td>\n",
       "      <td>2.853703e+10</td>\n",
       "      <td>0.055850</td>\n",
       "      <td>0.049474</td>\n",
       "      <td>5.765130</td>\n",
       "      <td>331.609111</td>\n",
       "      <td>66.313374</td>\n",
       "      <td>30.378014</td>\n",
       "      <td>49.549258</td>\n",
       "      <td>NaN</td>\n",
       "      <td>1.683708</td>\n",
       "      <td>1.285369</td>\n",
       "      <td>32.328974</td>\n",
       "      <td>135.419199</td>\n",
       "    </tr>\n",
       "  </tbody>\n",
       "</table>\n",
       "</div>"
      ],
      "text/plain": [
       "                 id       host id            lat           long  \\\n",
       "count  1.014100e+05  1.014100e+05  101402.000000  101402.000000   \n",
       "mean   2.920959e+07  4.926155e+10      40.728082     -73.949663   \n",
       "min    1.001254e+06  1.236005e+08      40.499790     -74.249840   \n",
       "25%    1.507574e+07  2.459183e+10      40.688730     -73.982570   \n",
       "50%    2.922911e+07  4.912069e+10      40.722300     -73.954440   \n",
       "75%    4.328308e+07  7.399747e+10      40.762750     -73.932340   \n",
       "max    5.736742e+07  9.876313e+10      40.916970     -73.705220   \n",
       "std    1.626820e+07  2.853703e+10       0.055850       0.049474   \n",
       "\n",
       "       Construction year          price    service fee  minimum nights  \\\n",
       "count      101210.000000  101171.000000  101142.000000   101016.000000   \n",
       "mean         2012.486908     625.381008     125.043998        8.113744   \n",
       "min          2003.000000      50.000000      10.000000    -1223.000000   \n",
       "25%          2007.000000     340.000000      68.000000        2.000000   \n",
       "50%          2012.000000     625.000000     125.000000        3.000000   \n",
       "75%          2017.000000     913.000000     183.000000        5.000000   \n",
       "max          2022.000000    1200.000000     240.000000     5645.000000   \n",
       "std             5.765130     331.609111      66.313374       30.378014   \n",
       "\n",
       "       number of reviews                    last review  reviews per month  \\\n",
       "count      101228.000000                         101410      101410.000000   \n",
       "mean           27.511854  2018-05-15 21:26:08.721033728           1.163207   \n",
       "min             0.000000            2012-07-11 00:00:00           0.000000   \n",
       "25%             1.000000            2017-07-30 00:00:00           0.090000   \n",
       "50%             7.000000            2019-05-23 00:00:00           0.480000   \n",
       "75%            31.000000            2019-07-01 00:00:00           1.710000   \n",
       "max          1024.000000            2058-06-16 00:00:00          90.000000   \n",
       "std            49.549258                            NaN           1.683708   \n",
       "\n",
       "       review rate number  calculated host listings count  availability 365  \n",
       "count       101103.000000                   101092.000000     100990.000000  \n",
       "mean             3.278558                        7.948463        141.164660  \n",
       "min              1.000000                        1.000000        -10.000000  \n",
       "25%              2.000000                        1.000000          3.000000  \n",
       "50%              3.000000                        1.000000         96.000000  \n",
       "75%              4.000000                        2.000000        269.000000  \n",
       "max              5.000000                      332.000000       3677.000000  \n",
       "std              1.285369                       32.328974        135.419199  "
      ]
     },
     "execution_count": 21,
     "metadata": {},
     "output_type": "execute_result"
    }
   ],
   "source": [
    "# descriptive statistics\n",
    "df.describe()"
   ]
  },
  {
   "cell_type": "markdown",
   "id": "64af3707-a37c-4eee-b010-b406f9450ef2",
   "metadata": {},
   "source": [
    "# Visualization"
   ]
  },
  {
   "cell_type": "code",
   "execution_count": 22,
   "id": "5f1544c2-e6b3-4faa-8142-2b91899e8b60",
   "metadata": {},
   "outputs": [
    {
     "data": {
      "image/png": "[encoded data removed]",
      "text/plain": [
       "<Figure size 400x300 with 1 Axes>"
      ]
     },
     "metadata": {},
     "output_type": "display_data"
    }
   ],
   "source": [
    "# what is the distribution of listing prices?\n",
    "\n",
    "plt.figure(figsize=(4,3))\n",
    "sns.histplot(df[\"price\"], bins=50, kde=True)\n",
    "plt.title(\"Distribution of Listing Prices\")\n",
    "plt.xlabel(\"Price $\")\n",
    "plt.ylabel(\"Frequency\")\n",
    "plt.show()"
   ]
  },
  {
   "cell_type": "code",
   "execution_count": 23,
   "id": "b998406a-1af4-41b7-9400-15e3be4a9827",
   "metadata": {},
   "outputs": [],
   "source": [
    "# conclution :\n",
    "# The histogram shows a fairly even distribution of listing prices across different price ranges, indicating no particular concentration of listing in \n",
    "# any specific price range. \n",
    "# The KDE line helps visualize this even spread more clearly, confirming that the dataset contains listings with a wide variety of prices."
   ]
  },
  {
   "cell_type": "code",
   "execution_count": null,
   "id": "bd7b2590-a73a-4f36-8e14-dc31e88181b0",
   "metadata": {},
   "outputs": [],
   "source": []
  },
  {
   "cell_type": "code",
   "execution_count": 24,
   "id": "9668e11c-2450-44f3-b497-d7169da71487",
   "metadata": {},
   "outputs": [
    {
     "data": {
      "text/plain": [
       "0            Private room\n",
       "1         Entire home/apt\n",
       "2            Private room\n",
       "4         Entire home/apt\n",
       "5         Entire home/apt\n",
       "               ...       \n",
       "102053       Private room\n",
       "102054       Private room\n",
       "102055    Entire home/apt\n",
       "102056       Private room\n",
       "102057    Entire home/apt\n",
       "Name: room type, Length: 101410, dtype: object"
      ]
     },
     "execution_count": 24,
     "metadata": {},
     "output_type": "execute_result"
    }
   ],
   "source": [
    "# How are different room types distributed?\n",
    "\n",
    "df[\"room type\"]"
   ]
  },
  {
   "cell_type": "code",
   "execution_count": 25,
   "id": "18a46938-1bd4-42f0-bb8a-02f9aff54ba2",
   "metadata": {},
   "outputs": [
    {
     "data": {
      "image/png": "[encoded data removed]",
      "text/plain": [
       "<Figure size 800x500 with 1 Axes>"
      ]
     },
     "metadata": {},
     "output_type": "display_data"
    }
   ],
   "source": [
    "plt.figure(figsize=(8,5))\n",
    "sns.countplot(x=\"room type\", data = df)\n",
    "plt.title(\"Room Type Distribution\")\n",
    "plt.xlabel(\"Room Types\")\n",
    "plt.ylabel(\"Count\")\n",
    "plt.show()"
   ]
  },
  {
   "cell_type": "code",
   "execution_count": null,
   "id": "63f33964-fc0d-41c0-82b2-bf2c6e1fe059",
   "metadata": {},
   "outputs": [],
   "source": []
  },
  {
   "cell_type": "code",
   "execution_count": 26,
   "id": "e411a317-90aa-4f4d-8fe7-03d131b26479",
   "metadata": {},
   "outputs": [
    {
     "data": {
      "image/png": "[encoded data removed]",
      "text/plain": [
       "<Figure size 1000x500 with 1 Axes>"
      ]
     },
     "metadata": {},
     "output_type": "display_data"
    }
   ],
   "source": [
    "# How are listings distributed across different neighborhoods?\n",
    "\n",
    "plt.figure(figsize=(10,5))\n",
    "sns.countplot(y=\"neighbourhood group\", data=df, color=\"pink\", order=df[\"neighbourhood group\"].value_counts().index)\n",
    "plt.title(\"Number of Listings by Neighbourhood Group\")\n",
    "plt.xlabel(\"Count\")\n",
    "plt.ylabel(\"Neighbourhood Group\")\n",
    "plt.show()"
   ]
  },
  {
   "cell_type": "code",
   "execution_count": null,
   "id": "a4f8dc18-f6d4-4eaf-a827-8eabc16ae0db",
   "metadata": {},
   "outputs": [],
   "source": []
  },
  {
   "cell_type": "code",
   "execution_count": 27,
   "id": "9c8c6d5c-cf85-44cf-a5b3-8c4e074a82ea",
   "metadata": {},
   "outputs": [
    {
     "data": {
      "image/png": "[encoded data removed]",
      "text/plain": [
       "<Figure size 1000x500 with 1 Axes>"
      ]
     },
     "metadata": {},
     "output_type": "display_data"
    }
   ],
   "source": [
    "# What is the relationship b/w price and room type\n",
    "\n",
    "plt.figure(figsize=(10,5))\n",
    "sns.boxplot(x=\"room type\", y=\"price\", data=df, hue=\"room type\", palette=\"Set1\")\n",
    "plt.title(\"Price vs Room Type\")\n",
    "plt.xlabel(\"Room Type\")\n",
    "plt.ylabel(\"Price in $\")\n",
    "plt.legend(\"room type\", title=\"room type\")\n",
    "plt.show()"
   ]
  },
  {
   "cell_type": "code",
   "execution_count": null,
   "id": "e454d0b7-4477-41cd-8532-282ca2754f85",
   "metadata": {},
   "outputs": [],
   "source": []
  },
  {
   "cell_type": "code",
   "execution_count": 28,
   "id": "74a12d92-f808-48d4-98f4-bca2fad75416",
   "metadata": {},
   "outputs": [
    {
     "data": {
      "image/png": "[encoded data removed]",
      "text/plain": [
       "<Figure size 1000x500 with 1 Axes>"
      ]
     },
     "metadata": {},
     "output_type": "display_data"
    }
   ],
   "source": [
    "# How has the number of reviews changed over time?\n",
    "\n",
    "review_over_time = df.groupby(df[\"last review\"].dt.to_period(\"M\")).size()\n",
    "\n",
    "plt.figure(figsize=(10,5))\n",
    "review_over_time.plot(kind=\"line\", color=\"lightgreen\")\n",
    "plt.title(\"Number of Reviews over Time\")\n",
    "plt.xlabel(\"Date\")\n",
    "plt.ylabel(\"Number of Reviews\")\n",
    "plt.show()"
   ]
  },
  {
   "cell_type": "code",
   "execution_count": null,
   "id": "64e378c2-a3ba-433f-8afb-ba3b6be7fe58",
   "metadata": {},
   "outputs": [],
   "source": []
  },
  {
   "cell_type": "code",
   "execution_count": null,
   "id": "4961757c-783c-4210-a953-60840d7e2abc",
   "metadata": {},
   "outputs": [],
   "source": []
  },
  {
   "cell_type": "code",
   "execution_count": null,
   "id": "e45503d3-0b41-4361-a0c8-12f5cbc7d6f8",
   "metadata": {},
   "outputs": [],
   "source": []
  },
  {
   "cell_type": "code",
   "execution_count": null,
   "id": "c9fd56ee-f79e-4607-8a55-4abd64ba3726",
   "metadata": {},
   "outputs": [],
   "source": []
  },
  {
   "cell_type": "code",
   "execution_count": null,
   "id": "80039773-bee2-402f-b204-9ccc35a6e63a",
   "metadata": {},
   "outputs": [],
   "source": []
  }
 ],
 "metadata": {
  "kernelspec": {
   "display_name": "Python 3 (ipykernel)",
   "language": "python",
   "name": "python3"
  },
  "language_info": {
   "codemirror_mode": {
    "name": "ipython",
    "version": 3
   },
   "file_extension": ".py",
   "mimetype": "text/x-python",
   "name": "python",
   "nbconvert_exporter": "python",
   "pygments_lexer": "ipython3",
   "version": "3.12.6"
  }
 },
 "nbformat": 4,
 "nbformat_minor": 5
}
